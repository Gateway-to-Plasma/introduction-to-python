{
 "cells": [
  {
   "cell_type": "markdown",
   "id": "6e8f0d92",
   "metadata": {},
   "source": [
    "# Using PlasmaPy Particles"
   ]
  },
  {
   "cell_type": "markdown",
   "id": "0c7eeced",
   "metadata": {},
   "source": [
    "[plasmapy.particles]: https://docs.plasmapy.org/en/stable/particles/index.html\n",
    "\n",
    "The [plasmapy.particles] subpackage contains functions to access basic particle data and classes to represent particles."
   ]
  },
  {
   "cell_type": "code",
   "execution_count": 1,
   "id": "24125310",
   "metadata": {},
   "outputs": [],
   "source": [
    "from plasmapy.particles import (\n",
    "    CustomParticle,\n",
    "    DimensionlessParticle,\n",
    "    Particle,\n",
    "    ParticleList,\n",
    "    atomic_number,\n",
    "    charge_number,\n",
    "    element_name,\n",
    "    half_life,\n",
    "    is_stable,\n",
    "    molecule,\n",
    "    particle_mass,\n",
    ")\n",
    "from plasmapy.particles.particle_class import valid_categories"
   ]
  },
  {
   "cell_type": "markdown",
   "id": "650d57e8",
   "metadata": {},
   "source": [
    "## Contents\n",
    "\n",
    "1. [Particle properties](#Particle-properties)\n",
    "2. [Particle objects](#Particle-objects)\n",
    "3. [Custom particles](#Custom-particles)\n",
    "4. [Molecules](#Molecules)\n",
    "5. [Particle lists](#Particle-lists)\n",
    "6. [Dimensionless particles](#Dimensionless-particles)\n",
    "7. [Nuclear reactions](#Nuclear-reactions)"
   ]
  },
  {
   "cell_type": "markdown",
   "id": "e224284a",
   "metadata": {},
   "source": [
    "## Particle properties"
   ]
  },
  {
   "cell_type": "markdown",
   "id": "7696deba",
   "metadata": {},
   "source": [
    "[representations of a particle]: https://docs.plasmapy.org/en/stable/api/plasmapy.particles.ParticleLike.html#particlelike\n",
    "\n",
    "There are several functions that provide information about different particles that might be present in a plasma. These functions recognize common [representations of a particle], such as a string for the atomic symbol or the element name.\n",
    "\n",
    "The function `atomic_number()` gives the atomic number of a particle. Change the box below from Markdown to code to get the atomic number for iron."
   ]
  },
  {
   "cell_type": "markdown",
   "id": "57f7cccf-7bd9-481e-8919-e3c232eedd7b",
   "metadata": {},
   "source": [
    "atomic_number(\"Fe\")"
   ]
  },
  {
   "cell_type": "markdown",
   "id": "2aa5af34",
   "metadata": {},
   "source": [
    "[atomic number]: https://en.wikipedia.org/wiki/Atomic_number\n",
    "\n",
    "Or, if we know the number but not the name, we can input the [atomic number] and get the `element_name()`."
   ]
  },
  {
   "cell_type": "markdown",
   "id": "133e8ab1-7afc-4b5b-9ecf-d7227496deba",
   "metadata": {},
   "source": [
    "element_name(26)"
   ]
  },
  {
   "cell_type": "markdown",
   "id": "cca89cef",
   "metadata": {},
   "source": [
    "We can also provide standard symbols or the names of particles."
   ]
  },
  {
   "cell_type": "markdown",
   "id": "35d35727-22ec-4aa9-a063-49c57be14934",
   "metadata": {},
   "source": [
    "is_stable(\"e-\") #standard symbol for electron"
   ]
  },
  {
   "cell_type": "markdown",
   "id": "4fb13323-ac18-46d6-8732-e5655ed33321",
   "metadata": {},
   "source": [
    "charge_number(\"proton\")"
   ]
  },
  {
   "cell_type": "markdown",
   "id": "e498e01e",
   "metadata": {},
   "source": [
    "[alpha particle]: https://en.wikipedia.org/wiki/Alpha_particle\n",
    "\n",
    "The symbols for many particles can even be used directly, such as for an [alpha particle]. To create an \"α\" in a Jupyter notebook, type `\\alpha` and press tab."
   ]
  },
  {
   "cell_type": "markdown",
   "id": "8c893ea1-c68e-4f26-86a5-3fa63c29819c",
   "metadata": {},
   "source": [
    "particle_mass(\"α\")"
   ]
  },
  {
   "cell_type": "markdown",
   "id": "8f2e5b30",
   "metadata": {},
   "source": [
    "[mass number]: https://en.wikipedia.org/wiki/Mass_number\n",
    "[half_life]: https://docs.plasmapy.org/en/stable/api/plasmapy.particles.atomic.half_life.html\n",
    "[Quantity]: https://docs.astropy.org/en/stable/units/quantity.html#quantity\n",
    "[astropy.units]: https://docs.astropy.org/en/stable/units/index.html\n",
    "[isotopes]: https://en.wikipedia.org/wiki/Isotope\n",
    "\n",
    "We can represent [isotopes] with the atomic symbol followed by a hyphen and the [mass number]. In this example, [half_life] returns the time in seconds as a [Quantity] from [astropy.units]."
   ]
  },
  {
   "cell_type": "markdown",
   "id": "6d6f7006-0e21-47d8-8464-44adfb17c9ab",
   "metadata": {},
   "source": [
    "half_life(\"C-14\")"
   ]
  },
  {
   "cell_type": "markdown",
   "id": "58ab7782",
   "metadata": {},
   "source": [
    "We typically represent an ion in a string by putting together the atomic symbol or isotope symbol, a space, the charge number, and the sign of the charge."
   ]
  },
  {
   "cell_type": "markdown",
   "id": "4d8a18f4-5a2f-410f-8bad-a8c6d1f625e1",
   "metadata": {},
   "source": [
    "charge_number(\"Fe-56 13+\")"
   ]
  },
  {
   "cell_type": "markdown",
   "id": "ce4886cf",
   "metadata": {},
   "source": [
    "[Particle]: https://docs.plasmapy.org/en/latest/api/plasmapy.particles.particle_class.Particle.html\n",
    "[particle-like]: https://docs.plasmapy.org/en/latest/glossary.html#term-particle-like\n",
    "\n",
    "Functions in plasmapy.particles are quite flexible in terms of string inputs representing particles. An input is [particle-like] if it can be transformed into a [Particle].  "
   ]
  },
  {
   "cell_type": "markdown",
   "id": "d46ca9f6-f8b7-4ca1-8bed-c499a74defca",
   "metadata": {},
   "source": [
    "particle_mass(\"iron-56 +13\")"
   ]
  },
  {
   "cell_type": "markdown",
   "id": "63b2584c-8906-43fa-bcce-ad988c7aa693",
   "metadata": {},
   "source": [
    "particle_mass(\"iron-56+++++++++++++\")"
   ]
  },
  {
   "cell_type": "markdown",
   "id": "d3adf3a6",
   "metadata": {},
   "source": [
    "Most of the functions take additional arguments, with `Z` representing the charge number of an ion and `mass_numb` representing the mass number of an isotope. These arguments are often [keyword-only](https://docs.plasmapy.org/en/latest/glossary.html#term-keyword-only) to avoid ambiguity."
   ]
  },
  {
   "cell_type": "markdown",
   "id": "0ea81c56-c306-4eab-94a4-81baf7381b45",
   "metadata": {},
   "source": [
    "particle_mass(\"Fe\", Z=13, mass_numb=56)"
   ]
  },
  {
   "cell_type": "markdown",
   "id": "53a1d993",
   "metadata": {},
   "source": [
    "## Particle objects"
   ]
  },
  {
   "cell_type": "markdown",
   "id": "3c2c3835",
   "metadata": {},
   "source": [
    "[Particle]: https://docs.plasmapy.org/en/latest/api/plasmapy.particles.particle_class.Particle.html\n",
    "\n",
    "Up until now, we have been using functions that accept representations of particles and then return particle properties. With the [Particle] class, we can create objects that represent physical particles. This is useful for calculations and modeling using specific particles."
   ]
  },
  {
   "cell_type": "code",
   "execution_count": 61,
   "id": "fe9f824a",
   "metadata": {},
   "outputs": [],
   "source": [
    "proton = Particle(\"p+\")\n",
    "electron = Particle(\"electron\")\n",
    "iron56_nuclide = Particle(\"Fe\", Z=26, mass_numb=56)"
   ]
  },
  {
   "cell_type": "markdown",
   "id": "160df55b",
   "metadata": {},
   "source": [
    "[Particle]: https://docs.plasmapy.org/en/latest/api/plasmapy.particles.particle_class.Particle.html\n",
    "\n",
    "Particle properties can be accessed via attributes of the [Particle] class, with the format `object_name.attribute`."
   ]
  },
  {
   "cell_type": "code",
   "execution_count": 15,
   "id": "bebcc477",
   "metadata": {},
   "outputs": [
    {
     "data": {
      "text/latex": [
       "$1.6726219 \\times 10^{-27} \\; \\mathrm{kg}$"
      ],
      "text/plain": [
       "<Quantity 1.67262192e-27 kg>"
      ]
     },
     "execution_count": 15,
     "metadata": {},
     "output_type": "execute_result"
    }
   ],
   "source": [
    "proton.mass"
   ]
  },
  {
   "cell_type": "code",
   "execution_count": 17,
   "id": "116cd6ad",
   "metadata": {},
   "outputs": [
    {
     "data": {
      "text/plain": [
       "-1"
      ]
     },
     "execution_count": 17,
     "metadata": {},
     "output_type": "execute_result"
    }
   ],
   "source": [
    "electron.charge_number"
   ]
  },
  {
   "cell_type": "code",
   "execution_count": 18,
   "id": "99d22bd3",
   "metadata": {},
   "outputs": [
    {
     "data": {
      "text/latex": [
       "$7.8868678 \\times 10^{-11} \\; \\mathrm{J}$"
      ],
      "text/plain": [
       "<Quantity 7.88686781e-11 J>"
      ]
     },
     "execution_count": 18,
     "metadata": {},
     "output_type": "execute_result"
    }
   ],
   "source": [
    "iron56_nuclide.binding_energy"
   ]
  },
  {
   "cell_type": "markdown",
   "id": "9868519f-4227-4b9e-bc3c-e2c689e56911",
   "metadata": {},
   "source": [
    "Change the cell below from Markdown to Code and type the attribute charge to find the charge of an electron."
   ]
  },
  {
   "cell_type": "markdown",
   "id": "9a34736c-9fca-45ec-898a-cd7acb3702e2",
   "metadata": {},
   "source": [
    "electron."
   ]
  },
  {
   "cell_type": "markdown",
   "id": "8500bc48",
   "metadata": {},
   "source": [
    "### Ionization and recombination\n",
    "The `recombine` and `ionize` methods of a Particle representing an ion or neutral atom will return a different Particle with fewer or more electrons."
   ]
  },
  {
   "cell_type": "code",
   "execution_count": 21,
   "id": "186b1dfa",
   "metadata": {},
   "outputs": [
    {
     "data": {
      "text/plain": [
       "Particle(\"D 1+\")"
      ]
     },
     "execution_count": 21,
     "metadata": {},
     "output_type": "execute_result"
    }
   ],
   "source": [
    "deuterium = Particle(\"D 0+\")\n",
    "deuterium.ionize()"
   ]
  },
  {
   "cell_type": "markdown",
   "id": "4ee95241",
   "metadata": {},
   "source": [
    "Adding a number in the parentheses tells the function how many bound electrons to add or remove."
   ]
  },
  {
   "cell_type": "code",
   "execution_count": 23,
   "id": "242b53bd",
   "metadata": {},
   "outputs": [
    {
     "data": {
      "text/plain": [
       "Particle(\"He-4 0+\")"
      ]
     },
     "execution_count": 23,
     "metadata": {},
     "output_type": "execute_result"
    }
   ],
   "source": [
    "alpha = Particle(\"alpha\")\n",
    "alpha.recombine(2)"
   ]
  },
  {
   "cell_type": "markdown",
   "id": "0f2b0634",
   "metadata": {},
   "source": [
    "## Particle lists"
   ]
  },
  {
   "cell_type": "markdown",
   "id": "7939cfad",
   "metadata": {},
   "source": [
    "[ParticleList]: https://docs.plasmapy.org/en/stable/api/plasmapy.particles.particle_collections.ParticleList.html\n",
    "\n",
    "The [ParticleList] class allows you to create a list of Particle objects."
   ]
  },
  {
   "cell_type": "code",
   "execution_count": 34,
   "id": "30cc7d36",
   "metadata": {},
   "outputs": [],
   "source": [
    "iron_ions = ParticleList([\"Fe 12+\", \"Fe 13+\", \"Fe 14+\"])"
   ]
  },
  {
   "cell_type": "markdown",
   "id": "d56ddb98",
   "metadata": {},
   "source": [
    "By using a ParticleList, we can access the properties of multiple particles at once."
   ]
  },
  {
   "cell_type": "code",
   "execution_count": 35,
   "id": "2434f71b",
   "metadata": {},
   "outputs": [
    {
     "data": {
      "text/latex": [
       "$[9.2721873 \\times 10^{-26},~9.2720962 \\times 10^{-26},~9.2720051 \\times 10^{-26}] \\; \\mathrm{kg}$"
      ],
      "text/plain": [
       "<Quantity [9.27218729e-26, 9.27209620e-26, 9.27200510e-26] kg>"
      ]
     },
     "execution_count": 35,
     "metadata": {},
     "output_type": "execute_result"
    }
   ],
   "source": [
    "iron_ions.mass"
   ]
  },
  {
   "cell_type": "code",
   "execution_count": 36,
   "id": "14a431dd",
   "metadata": {},
   "outputs": [
    {
     "data": {
      "text/latex": [
       "$[1.922612 \\times 10^{-18},~2.0828296 \\times 10^{-18},~2.2430473 \\times 10^{-18}] \\; \\mathrm{C}$"
      ],
      "text/plain": [
       "<Quantity [1.92261196e-18, 2.08282962e-18, 2.24304729e-18] C>"
      ]
     },
     "execution_count": 36,
     "metadata": {},
     "output_type": "execute_result"
    }
   ],
   "source": [
    "iron_ions.charge"
   ]
  },
  {
   "cell_type": "code",
   "execution_count": 37,
   "id": "48cd1c7a",
   "metadata": {},
   "outputs": [
    {
     "data": {
      "text/plain": [
       "['Fe 12+', 'Fe 13+', 'Fe 14+']"
      ]
     },
     "execution_count": 37,
     "metadata": {},
     "output_type": "execute_result"
    }
   ],
   "source": [
    "iron_ions.symbols"
   ]
  },
  {
   "cell_type": "markdown",
   "id": "cccc6c60",
   "metadata": {},
   "source": [
    "We can also create a ParticleList by adding Particle objects together."
   ]
  },
  {
   "cell_type": "code",
   "execution_count": 39,
   "id": "3b953065",
   "metadata": {},
   "outputs": [
    {
     "data": {
      "text/plain": [
       "ParticleList(['p+', 'e-', 'He-4 2+'])"
      ]
     },
     "execution_count": 39,
     "metadata": {},
     "output_type": "execute_result"
    }
   ],
   "source": [
    "proton + electron + alpha"
   ]
  },
  {
   "cell_type": "markdown",
   "id": "f1ed1dc2",
   "metadata": {},
   "source": [
    "## Molecules"
   ]
  },
  {
   "cell_type": "markdown",
   "id": "72bb94e5",
   "metadata": {},
   "source": [
    "[CustomParticle]: https://docs.plasmapy.org/en/latest/api/plasmapy.particles.particle_class.CustomParticle.html\n",
    "[molecule]: https://docs.plasmapy.org/en/stable/api/plasmapy.particles.particle_class.molecule.html\n",
    "[plasmapy.formulary]: https://docs.plasmapy.org/en/stable/formulary/index.html\n",
    "\n",
    "We can use [molecule] to create a [CustomParticle] based on a chemical formula. The first argument to [molecule] is a string that represents a chemical formula, except that the subscript numbers are not given as subscripts. For example, water is ``\"H2O\"``.  \n",
    "\n",
    "Note: [CustomParticle] objects are not yet able to be used by many of the functions in [plasmapy.formulary], but are expected to become compatible with them in a future release of PlasmaPy. Similarly, [CustomParticle] objects are not able to be used by the functions in plasmapy.particles that require that the particle be real."
   ]
  },
  {
   "cell_type": "code",
   "execution_count": 44,
   "id": "da22120e",
   "metadata": {},
   "outputs": [
    {
     "data": {
      "text/plain": [
       "'H2O'"
      ]
     },
     "execution_count": 44,
     "metadata": {},
     "output_type": "execute_result"
    },
    {
     "name": "stdout",
     "output_type": "stream",
     "text": [
      "The history saving thread hit an unexpected error (OperationalError('attempt to write a readonly database')).History will not be written to the database.\n"
     ]
    }
   ],
   "source": [
    "water = molecule(\"H2O\")\n",
    "water.symbol"
   ]
  },
  {
   "cell_type": "markdown",
   "id": "ff5a6cf1",
   "metadata": {},
   "source": [
    "The properties of the molecule are found automatically."
   ]
  },
  {
   "cell_type": "code",
   "execution_count": 42,
   "id": "1ae6284a",
   "metadata": {},
   "outputs": [
    {
     "data": {
      "text/latex": [
       "$2.9914611 \\times 10^{-26} \\; \\mathrm{kg}$"
      ],
      "text/plain": [
       "<Quantity 2.99146113e-26 kg>"
      ]
     },
     "execution_count": 42,
     "metadata": {},
     "output_type": "execute_result"
    }
   ],
   "source": [
    "water.mass"
   ]
  },
  {
   "cell_type": "code",
   "execution_count": 47,
   "id": "23c42034",
   "metadata": {},
   "outputs": [
    {
     "data": {
      "text/latex": [
       "$-1.6021766 \\times 10^{-19} \\; \\mathrm{C}$"
      ],
      "text/plain": [
       "<Quantity -1.60217663e-19 C>"
      ]
     },
     "execution_count": 47,
     "metadata": {},
     "output_type": "execute_result"
    }
   ],
   "source": [
    "acetic_acid_anion = molecule(\"CH3COOH 1-\")\n",
    "acetic_acid_anion.charge"
   ]
  },
  {
   "cell_type": "markdown",
   "id": "ebc037f7",
   "metadata": {},
   "source": [
    "## Particle categorization"
   ]
  },
  {
   "cell_type": "markdown",
   "id": "f298538f",
   "metadata": {},
   "source": [
    "[categories]: https://docs.plasmapy.org/en/stable/api/plasmapy.particles.particle_class.Particle.html#plasmapy.particles.particle_class.Particle.categories\n",
    "\n",
    "The [categories] attribute of a Particle provides a set of the categories that the Particle belongs to."
   ]
  },
  {
   "cell_type": "code",
   "execution_count": 62,
   "id": "09f122ff",
   "metadata": {},
   "outputs": [
    {
     "data": {
      "text/plain": [
       "{'charged', 'fermion', 'lepton', 'matter', 'unstable'}"
      ]
     },
     "execution_count": 62,
     "metadata": {},
     "output_type": "execute_result"
    }
   ],
   "source": [
    "muon = Particle(\"muon\")\n",
    "muon.categories"
   ]
  },
  {
   "cell_type": "markdown",
   "id": "934739a8",
   "metadata": {},
   "source": [
    "[is_category()]: https://docs.plasmapy.org/en/latest/api/plasmapy.particles.particle_class.Particle.html#plasmapy.particles.particle_class.Particle.is_category\n",
    "\n",
    "The [is_category()] method lets us determine if a Particle belongs to one or more categories."
   ]
  },
  {
   "cell_type": "code",
   "execution_count": 63,
   "id": "d278fa15",
   "metadata": {},
   "outputs": [
    {
     "data": {
      "text/plain": [
       "True"
      ]
     },
     "execution_count": 63,
     "metadata": {},
     "output_type": "execute_result"
    }
   ],
   "source": [
    "muon.is_category(\"lepton\")"
   ]
  },
  {
   "cell_type": "markdown",
   "id": "a03c8153",
   "metadata": {},
   "source": [
    "[valid_categories]: https://docs.plasmapy.org/en/latest/api/plasmapy.particles.particle_class.valid_categories.html\n",
    "\n",
    "All valid particle categories are included in [valid_categories]."
   ]
  },
  {
   "cell_type": "code",
   "execution_count": 64,
   "id": "f57d6333",
   "metadata": {},
   "outputs": [
    {
     "name": "stdout",
     "output_type": "stream",
     "text": [
      "{'unstable', 'positron', 'proton', 'electron', 'alkaline earth metal', 'metal', 'lanthanide', 'boson', 'neutron', 'baryon', 'metalloid', 'antimatter', 'lepton', 'fermion', 'antineutrino', 'element', 'nonmetal', 'antibaryon', 'uncharged', 'post-transition metal', 'custom', 'halogen', 'transition metal', 'actinide', 'matter', 'stable', 'antilepton', 'neutrino', 'isotope', 'ion', 'noble gas', 'charged', 'alkali metal'}\n"
     ]
    }
   ],
   "source": [
    "print(valid_categories)"
   ]
  },
  {
   "cell_type": "markdown",
   "id": "a47471b5",
   "metadata": {},
   "source": [
    "The `is_category()` method of ParticleList returns a `list` of boolean values which correspond to whether or not each particle in the list meets the categorization criteria."
   ]
  },
  {
   "cell_type": "code",
   "execution_count": 52,
   "id": "0973c148",
   "metadata": {},
   "outputs": [
    {
     "data": {
      "text/plain": [
       "False"
      ]
     },
     "execution_count": 52,
     "metadata": {},
     "output_type": "execute_result"
    }
   ],
   "source": [
    "particles = ParticleList([\"e-\", \"p+\", \"n\"])\n",
    "particles.is_category(require=\"lepton\")"
   ]
  },
  {
   "cell_type": "markdown",
   "id": "df2415de",
   "metadata": {},
   "source": [
    "## Dimensionless particles"
   ]
  },
  {
   "cell_type": "markdown",
   "id": "a1af4fc4",
   "metadata": {},
   "source": [
    "[DimensionlessParticle]: https://docs.plasmapy.org/en/latest/api/plasmapy.particles.particle_class.DimensionlessParticle.html\n",
    "\n",
    "When we need a dimensionless representation of a particle, we can use the [DimensionlessParticle] class."
   ]
  },
  {
   "cell_type": "code",
   "execution_count": 65,
   "id": "f57a0f64",
   "metadata": {},
   "outputs": [],
   "source": [
    "dimensionless_particle = DimensionlessParticle(mass=0.000545, charge=-1)"
   ]
  },
  {
   "cell_type": "markdown",
   "id": "cf598cb0",
   "metadata": {},
   "source": [
    "The properties of dimensionless particles may be accessed by its attributes."
   ]
  },
  {
   "cell_type": "code",
   "execution_count": 66,
   "id": "7b0f9755",
   "metadata": {},
   "outputs": [
    {
     "data": {
      "text/plain": [
       "0.000545"
      ]
     },
     "execution_count": 66,
     "metadata": {},
     "output_type": "execute_result"
    }
   ],
   "source": [
    "dimensionless_particle.mass"
   ]
  },
  {
   "cell_type": "code",
   "execution_count": 67,
   "id": "d4920b68",
   "metadata": {},
   "outputs": [
    {
     "data": {
      "text/plain": [
       "-1.0"
      ]
     },
     "execution_count": 67,
     "metadata": {},
     "output_type": "execute_result"
    }
   ],
   "source": [
    "dimensionless_particle.charge"
   ]
  },
  {
   "cell_type": "markdown",
   "id": "29e23e5f",
   "metadata": {},
   "source": [
    "Because a DimensionlessParticle does not uniquely describe a physical particle, it cannot be contained in a ParticleList.  "
   ]
  },
  {
   "cell_type": "markdown",
   "id": "efe199c8",
   "metadata": {},
   "source": [
    "## Nuclear reactions"
   ]
  },
  {
   "cell_type": "markdown",
   "id": "58fb006b",
   "metadata": {},
   "source": [
    "[plasmapy.particles]: https://docs.plasmapy.org/en/stable/particles/index.html\n",
    "[nuclear reaction]: https://chem.libretexts.org/Bookshelves/General_Chemistry/Book%3A_General_Chemistry%3A_Principles_Patterns_and_Applications_(Averill)/24%3A_Nuclear_Chemistry/24.03%3A_Nuclear_Reactions\n",
    "\n",
    "We can use [plasmapy.particles] to calculate the energy of a [nuclear reaction] using the `>` operator.  "
   ]
  },
  {
   "cell_type": "code",
   "execution_count": 56,
   "id": "d8a9ab9e",
   "metadata": {},
   "outputs": [],
   "source": [
    "deuteron = Particle(\"D+\")\n",
    "triton = Particle(\"T+\")\n",
    "alpha = Particle(\"α\")\n",
    "neutron = Particle(\"n\")"
   ]
  },
  {
   "cell_type": "code",
   "execution_count": 57,
   "id": "cb95c644",
   "metadata": {},
   "outputs": [],
   "source": [
    "energy = deuteron + triton > alpha + neutron"
   ]
  },
  {
   "cell_type": "code",
   "execution_count": 58,
   "id": "e7a4c236",
   "metadata": {},
   "outputs": [
    {
     "data": {
      "text/latex": [
       "$17.589253 \\; \\mathrm{MeV}$"
      ],
      "text/plain": [
       "<Quantity 17.58925276 MeV>"
      ]
     },
     "execution_count": 58,
     "metadata": {},
     "output_type": "execute_result"
    }
   ],
   "source": [
    "energy.to(\"MeV\")"
   ]
  },
  {
   "cell_type": "markdown",
   "id": "8bf7e515",
   "metadata": {},
   "source": [
    "If the nuclear reaction is invalid, then an exception is raised that states the reason why."
   ]
  },
  {
   "cell_type": "code",
   "execution_count": 59,
   "id": "efff1677",
   "metadata": {
    "nbsphinx": "hidden"
   },
   "outputs": [
    {
     "name": "stdout",
     "output_type": "stream",
     "text": [
      "Exception reporting mode: Minimal\n"
     ]
    }
   ],
   "source": [
    "%xmode minimal"
   ]
  },
  {
   "cell_type": "code",
   "execution_count": 60,
   "id": "67b32a3a",
   "metadata": {
    "tags": [
     "raises-exception"
    ]
   },
   "outputs": [
    {
     "ename": "ParticleError",
     "evalue": "The baryon number is not conserved for reactants = [Particle(\"D 1+\"), Particle(\"T 1+\")] and products = [Particle(\"He-4 2+\"), Particle(\"n\"), Particle(\"n\"), Particle(\"n\")].",
     "output_type": "error",
     "traceback": [
      "\u001b[0;31mParticleError\u001b[0m\u001b[0;31m:\u001b[0m The baryon number is not conserved for reactants = [Particle(\"D 1+\"), Particle(\"T 1+\")] and products = [Particle(\"He-4 2+\"), Particle(\"n\"), Particle(\"n\"), Particle(\"n\")].\n"
     ]
    }
   ],
   "source": [
    "deuteron + triton > alpha + 3 * neutron"
   ]
  },
  {
   "cell_type": "markdown",
   "id": "e7dcb9d8-4715-4ebd-bd18-eeee795c87ed",
   "metadata": {},
   "source": [
    "Find the energy of a common Alpha Decay reaction, Radium-226 decaying into Radon-222 and an alpha particle. First define particles for the radium and radon isotopes, then define the nuclear reaction equation. Finally, report your answer in MeV. Change the cell below from Markdown to Code and fill in the necessary gaps."
   ]
  },
  {
   "cell_type": "markdown",
   "id": "aad4fed1-6da6-4799-bb4d-549312099816",
   "metadata": {},
   "source": [
    "radium226 = \n",
    "\n",
    "radon222 =\n",
    "\n",
    "energy = ___ > ___ + ___\n",
    "\n",
    "energy.to()"
   ]
  },
  {
   "cell_type": "code",
   "execution_count": null,
   "id": "dbea997c-3e8d-4945-8e7d-a74bfabf152f",
   "metadata": {},
   "outputs": [],
   "source": []
  }
 ],
 "metadata": {
  "celltoolbar": "Tags",
  "kernelspec": {
   "display_name": "Python 3 (ipykernel)",
   "language": "python",
   "name": "python3"
  },
  "language_info": {
   "codemirror_mode": {
    "name": "ipython",
    "version": 3
   },
   "file_extension": ".py",
   "mimetype": "text/x-python",
   "name": "python",
   "nbconvert_exporter": "python",
   "pygments_lexer": "ipython3",
   "version": "3.12.4"
  }
 },
 "nbformat": 4,
 "nbformat_minor": 5
}
