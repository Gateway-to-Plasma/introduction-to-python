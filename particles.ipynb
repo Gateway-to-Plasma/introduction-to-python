{
 "cells": [
  {
   "cell_type": "markdown",
   "id": "6e8f0d92",
   "metadata": {},
   "source": [
    "# Using PlasmaPy Particles"
   ]
  },
  {
   "cell_type": "markdown",
   "id": "0c7eeced",
   "metadata": {},
   "source": [
    "[plasmapy.particles]: https://docs.plasmapy.org/en/stable/particles/index.html\n",
    "\n",
    "The [plasmapy.particles] subpackage contains functions to access basic particle data and classes to represent particles."
   ]
  },
  {
   "cell_type": "code",
   "execution_count": null,
   "id": "24125310",
   "metadata": {},
   "outputs": [],
   "source": [
    "from plasmapy.particles import (\n",
    "    CustomParticle,\n",
    "    DimensionlessParticle,\n",
    "    Particle,\n",
    "    ParticleList,\n",
    "    atomic_number,\n",
    "    charge_number,\n",
    "    element_name,\n",
    "    half_life,\n",
    "    is_stable,\n",
    "    molecule,\n",
    "    particle_mass,\n",
    ")\n",
    "from plasmapy.particles.particle_class import valid_categories"
   ]
  },
  {
   "cell_type": "markdown",
   "id": "650d57e8",
   "metadata": {},
   "source": [
    "## Contents\n",
    "\n",
    "1. [Particle properties](#Particle-properties)\n",
    "2. [Particle objects](#Particle-objects)\n",
    "3. [Custom particles](#Custom-particles)\n",
    "4. [Molecules](#Molecules)\n",
    "5. [Particle lists](#Particle-lists)\n",
    "6. [Dimensionless particles](#Dimensionless-particles)\n",
    "7. [Nuclear reactions](#Nuclear-reactions)"
   ]
  },
  {
   "cell_type": "markdown",
   "id": "e224284a",
   "metadata": {},
   "source": [
    "## Particle properties"
   ]
  },
  {
   "cell_type": "markdown",
   "id": "7696deba",
   "metadata": {},
   "source": [
    "[representations of a particle]: https://docs.plasmapy.org/en/stable/api/plasmapy.particles.ParticleLike.html#particlelike\n",
    "\n",
    "There are several functions that provide information about different particles that might be present in a plasma. These functions recognize common [representations of a particle], such as a string for the atomic symbol or the element name.\n",
    "\n",
    "The function `atomic_number()` gives the atomic number of a particle. Change the box below from Markdown to code to get the atomic number for iron."
   ]
  },
  {
   "cell_type": "code",
   "execution_count": null,
   "id": "298fe9dc-0000-4fd3-9c69-df6d3f48910a",
   "metadata": {},
   "outputs": [],
   "source": [
    "atomic_number(\"Fe\")"
   ]
  },
  {
   "cell_type": "markdown",
   "id": "2aa5af34",
   "metadata": {},
   "source": [
    "[atomic number]: https://en.wikipedia.org/wiki/Atomic_number\n",
    "\n",
    "Or, if we know the number but not the name, we can input the [atomic number] and get the `element_name()`."
   ]
  },
  {
   "cell_type": "code",
   "execution_count": null,
   "id": "9c4ab452-5f3e-4e46-9a5e-08a8e1eec5cb",
   "metadata": {},
   "outputs": [],
   "source": [
    "element_name(26)"
   ]
  },
  {
   "cell_type": "markdown",
   "id": "cca89cef",
   "metadata": {},
   "source": [
    "We can also provide standard symbols or the names of particles."
   ]
  },
  {
   "cell_type": "code",
   "execution_count": null,
   "id": "c5ba85c9-da4e-41f3-b2a7-6ca778554d34",
   "metadata": {},
   "outputs": [],
   "source": [
    "is_stable(\"e-\") #standard symbol for electron"
   ]
  },
  {
   "cell_type": "code",
   "execution_count": null,
   "id": "ccdd8716-40eb-40a0-a257-e7d4f3d04430",
   "metadata": {},
   "outputs": [],
   "source": [
    "charge_number(\"proton\")"
   ]
  },
  {
   "cell_type": "markdown",
   "id": "e498e01e",
   "metadata": {},
   "source": [
    "[alpha particle]: https://en.wikipedia.org/wiki/Alpha_particle\n",
    "\n",
    "The symbols for many particles can even be used directly, such as for an [alpha particle]. To create an \"α\" in a Jupyter notebook, type `\\alpha` and press tab."
   ]
  },
  {
   "cell_type": "code",
   "execution_count": null,
   "id": "aee104a3-c872-4ee2-9aa8-aa0b1e1fd206",
   "metadata": {},
   "outputs": [],
   "source": [
    "particle_mass(\"α\")"
   ]
  },
  {
   "cell_type": "markdown",
   "id": "8f2e5b30",
   "metadata": {},
   "source": [
    "[mass number]: https://en.wikipedia.org/wiki/Mass_number\n",
    "[half_life]: https://docs.plasmapy.org/en/stable/api/plasmapy.particles.atomic.half_life.html\n",
    "[Quantity]: https://docs.astropy.org/en/stable/units/quantity.html#quantity\n",
    "[astropy.units]: https://docs.astropy.org/en/stable/units/index.html\n",
    "[isotopes]: https://en.wikipedia.org/wiki/Isotope\n",
    "\n",
    "We can represent [isotopes] with the atomic symbol followed by a hyphen and the [mass number]. In this example, [half_life] returns the time in seconds as a [Quantity] from [astropy.units]."
   ]
  },
  {
   "cell_type": "code",
   "execution_count": null,
   "id": "62df31d6-c86a-4c09-8587-c09ef17ea0c6",
   "metadata": {},
   "outputs": [],
   "source": [
    "half_life(\"C-14\")"
   ]
  },
  {
   "cell_type": "markdown",
   "id": "58ab7782",
   "metadata": {},
   "source": [
    "We typically represent an ion in a string by putting together the atomic symbol or isotope symbol, a space, the charge number, and the sign of the charge."
   ]
  },
  {
   "cell_type": "code",
   "execution_count": null,
   "id": "48bf5157-155b-4df0-9f43-d3431d9e4bd3",
   "metadata": {},
   "outputs": [],
   "source": [
    "charge_number(\"Fe-56 13+\")"
   ]
  },
  {
   "cell_type": "markdown",
   "id": "ce4886cf",
   "metadata": {},
   "source": [
    "[Particle]: https://docs.plasmapy.org/en/latest/api/plasmapy.particles.particle_class.Particle.html\n",
    "[particle-like]: https://docs.plasmapy.org/en/latest/glossary.html#term-particle-like\n",
    "\n",
    "Functions in plasmapy.particles are quite flexible in terms of string inputs representing particles. An input is [particle-like] if it can be transformed into a [Particle].  "
   ]
  },
  {
   "cell_type": "code",
   "execution_count": null,
   "id": "6f0cacc1-1f11-41af-8e1d-218f510b0013",
   "metadata": {},
   "outputs": [],
   "source": [
    "particle_mass(\"iron-56 +13\")"
   ]
  },
  {
   "cell_type": "code",
   "execution_count": null,
   "id": "83e31673-3ebd-47e9-948c-677196674c89",
   "metadata": {},
   "outputs": [],
   "source": [
    "particle_mass(\"iron-56+++++++++++++\")"
   ]
  },
  {
   "cell_type": "markdown",
   "id": "d3adf3a6",
   "metadata": {},
   "source": [
    "Most of the functions take additional arguments, with `Z` representing the charge number of an ion and `mass_numb` representing the mass number of an isotope. These arguments are often [keyword-only](https://docs.plasmapy.org/en/latest/glossary.html#term-keyword-only) to avoid ambiguity."
   ]
  },
  {
   "cell_type": "code",
   "execution_count": null,
   "id": "de97e9bc-7701-4e41-aeaf-9cb0870c2b0e",
   "metadata": {},
   "outputs": [],
   "source": [
    "particle_mass(\"Fe\", Z=13, mass_numb=56)"
   ]
  },
  {
   "cell_type": "markdown",
   "id": "53a1d993",
   "metadata": {},
   "source": [
    "## Particle objects"
   ]
  },
  {
   "cell_type": "markdown",
   "id": "3c2c3835",
   "metadata": {},
   "source": [
    "[Particle]: https://docs.plasmapy.org/en/latest/api/plasmapy.particles.particle_class.Particle.html\n",
    "\n",
    "Up until now, we have been using functions that accept representations of particles and then return particle properties. With the [Particle] class, we can create objects that represent physical particles. This is useful for calculations and modeling using specific particles."
   ]
  },
  {
   "cell_type": "code",
   "execution_count": null,
   "id": "fe9f824a",
   "metadata": {},
   "outputs": [],
   "source": [
    "proton = Particle(\"p+\")\n",
    "electron = Particle(\"electron\")\n",
    "iron56_nuclide = Particle(\"Fe\", Z=26, mass_numb=56)"
   ]
  },
  {
   "cell_type": "markdown",
   "id": "160df55b",
   "metadata": {},
   "source": [
    "[Particle]: https://docs.plasmapy.org/en/latest/api/plasmapy.particles.particle_class.Particle.html\n",
    "\n",
    "Particle properties can be accessed via attributes of the [Particle] class, with the format `object_name.attribute`."
   ]
  },
  {
   "cell_type": "code",
   "execution_count": null,
   "id": "bebcc477",
   "metadata": {},
   "outputs": [],
   "source": [
    "proton.mass"
   ]
  },
  {
   "cell_type": "code",
   "execution_count": null,
   "id": "116cd6ad",
   "metadata": {},
   "outputs": [],
   "source": [
    "electron.charge_number"
   ]
  },
  {
   "cell_type": "code",
   "execution_count": null,
   "id": "99d22bd3",
   "metadata": {},
   "outputs": [],
   "source": [
    "iron56_nuclide.binding_energy"
   ]
  },
  {
   "cell_type": "markdown",
   "id": "9868519f-4227-4b9e-bc3c-e2c689e56911",
   "metadata": {},
   "source": [
    "Change the cell below from Markdown to Code and type the attribute `charge` to find the charge of an electron."
   ]
  },
  {
   "cell_type": "code",
   "execution_count": null,
   "id": "78406983-cba0-46d1-8842-8d85d0b9b9f8",
   "metadata": {},
   "outputs": [],
   "source": [
    "electron.charge"
   ]
  },
  {
   "cell_type": "markdown",
   "id": "8500bc48",
   "metadata": {},
   "source": [
    "### Ionization and recombination\n",
    "The `recombine` and `ionize` methods of a Particle representing an ion or neutral atom will return a different Particle with fewer or more electrons."
   ]
  },
  {
   "cell_type": "code",
   "execution_count": null,
   "id": "186b1dfa",
   "metadata": {},
   "outputs": [],
   "source": [
    "deuterium = Particle(\"D 0+\")\n",
    "deuterium.ionize()"
   ]
  },
  {
   "cell_type": "markdown",
   "id": "4ee95241",
   "metadata": {},
   "source": [
    "Adding a number in the parentheses tells the function how many bound electrons to add or remove."
   ]
  },
  {
   "cell_type": "code",
   "execution_count": null,
   "id": "242b53bd",
   "metadata": {},
   "outputs": [],
   "source": [
    "alpha = Particle(\"alpha\")\n",
    "alpha.recombine(2)"
   ]
  },
  {
   "cell_type": "markdown",
   "id": "0f2b0634",
   "metadata": {},
   "source": [
    "## Particle lists"
   ]
  },
  {
   "cell_type": "markdown",
   "id": "7939cfad",
   "metadata": {},
   "source": [
    "[ParticleList]: https://docs.plasmapy.org/en/stable/api/plasmapy.particles.particle_collections.ParticleList.html\n",
    "\n",
    "The [ParticleList] class allows you to create a list of Particle objects."
   ]
  },
  {
   "cell_type": "code",
   "execution_count": null,
   "id": "30cc7d36",
   "metadata": {},
   "outputs": [],
   "source": [
    "iron_ions = ParticleList([\"Fe 12+\", \"Fe 13+\", \"Fe 14+\"])"
   ]
  },
  {
   "cell_type": "markdown",
   "id": "d56ddb98",
   "metadata": {},
   "source": [
    "By using a ParticleList, we can access the properties of multiple particles at once."
   ]
  },
  {
   "cell_type": "code",
   "execution_count": null,
   "id": "2434f71b",
   "metadata": {},
   "outputs": [],
   "source": [
    "iron_ions.mass"
   ]
  },
  {
   "cell_type": "code",
   "execution_count": null,
   "id": "14a431dd",
   "metadata": {},
   "outputs": [],
   "source": [
    "iron_ions.charge"
   ]
  },
  {
   "cell_type": "code",
   "execution_count": null,
   "id": "48cd1c7a",
   "metadata": {},
   "outputs": [],
   "source": [
    "iron_ions.symbols"
   ]
  },
  {
   "cell_type": "markdown",
   "id": "cccc6c60",
   "metadata": {},
   "source": [
    "We can also create a ParticleList by adding Particle objects together."
   ]
  },
  {
   "cell_type": "code",
   "execution_count": null,
   "id": "3b953065",
   "metadata": {},
   "outputs": [],
   "source": [
    "proton + electron + alpha"
   ]
  },
  {
   "cell_type": "markdown",
   "id": "f1ed1dc2",
   "metadata": {},
   "source": [
    "## Molecules"
   ]
  },
  {
   "cell_type": "markdown",
   "id": "72bb94e5",
   "metadata": {},
   "source": [
    "[CustomParticle]: https://docs.plasmapy.org/en/latest/api/plasmapy.particles.particle_class.CustomParticle.html\n",
    "[molecule]: https://docs.plasmapy.org/en/stable/api/plasmapy.particles.particle_class.molecule.html\n",
    "[plasmapy.formulary]: https://docs.plasmapy.org/en/stable/formulary/index.html\n",
    "\n",
    "We can use [molecule] to create a [CustomParticle] based on a chemical formula. The first argument to [molecule] is a string that represents a chemical formula, except that the subscript numbers are not given as subscripts. For example, water is ``\"H2O\"``.  \n",
    "\n",
    "Note: [CustomParticle] objects are not yet able to be used by many of the functions in [plasmapy.formulary], but are expected to become compatible with them in a future release of PlasmaPy. Similarly, [CustomParticle] objects are not able to be used by the functions in plasmapy.particles that require that the particle be real."
   ]
  },
  {
   "cell_type": "code",
   "execution_count": null,
   "id": "da22120e",
   "metadata": {},
   "outputs": [],
   "source": [
    "water = molecule(\"H2O\")\n",
    "water.symbol"
   ]
  },
  {
   "cell_type": "markdown",
   "id": "ff5a6cf1",
   "metadata": {},
   "source": [
    "The properties of the molecule are found automatically."
   ]
  },
  {
   "cell_type": "code",
   "execution_count": null,
   "id": "1ae6284a",
   "metadata": {},
   "outputs": [],
   "source": [
    "water.mass"
   ]
  },
  {
   "cell_type": "code",
   "execution_count": null,
   "id": "23c42034",
   "metadata": {},
   "outputs": [],
   "source": [
    "acetic_acid_anion = molecule(\"CH3COOH 1-\")\n",
    "acetic_acid_anion.charge"
   ]
  },
  {
   "cell_type": "markdown",
   "id": "ebc037f7",
   "metadata": {},
   "source": [
    "## Particle categorization"
   ]
  },
  {
   "cell_type": "markdown",
   "id": "f298538f",
   "metadata": {},
   "source": [
    "[categories]: https://docs.plasmapy.org/en/stable/api/plasmapy.particles.particle_class.Particle.html#plasmapy.particles.particle_class.Particle.categories\n",
    "\n",
    "The [categories] attribute of a Particle provides a set of the categories that the Particle belongs to."
   ]
  },
  {
   "cell_type": "code",
   "execution_count": null,
   "id": "09f122ff",
   "metadata": {},
   "outputs": [],
   "source": [
    "muon = Particle(\"muon\")\n",
    "muon.categories"
   ]
  },
  {
   "cell_type": "markdown",
   "id": "934739a8",
   "metadata": {},
   "source": [
    "[is_category()]: https://docs.plasmapy.org/en/latest/api/plasmapy.particles.particle_class.Particle.html#plasmapy.particles.particle_class.Particle.is_category\n",
    "\n",
    "The [is_category()] method lets us determine if a Particle belongs to one or more categories."
   ]
  },
  {
   "cell_type": "code",
   "execution_count": null,
   "id": "d278fa15",
   "metadata": {},
   "outputs": [],
   "source": [
    "muon.is_category(\"lepton\")"
   ]
  },
  {
   "cell_type": "markdown",
   "id": "a03c8153",
   "metadata": {},
   "source": [
    "[valid_categories]: https://docs.plasmapy.org/en/latest/api/plasmapy.particles.particle_class.valid_categories.html\n",
    "\n",
    "All valid particle categories are included in [valid_categories]."
   ]
  },
  {
   "cell_type": "code",
   "execution_count": null,
   "id": "f57d6333",
   "metadata": {},
   "outputs": [],
   "source": [
    "print(valid_categories)"
   ]
  },
  {
   "cell_type": "markdown",
   "id": "a47471b5",
   "metadata": {},
   "source": [
    "The `is_category()` method of ParticleList returns a `list` of boolean values which correspond to whether or not each particle in the list meets the categorization criteria."
   ]
  },
  {
   "cell_type": "code",
   "execution_count": null,
   "id": "0973c148",
   "metadata": {},
   "outputs": [],
   "source": [
    "particles = ParticleList([\"e-\", \"p+\", \"n\"])\n",
    "particles.is_category(require=\"lepton\")"
   ]
  },
  {
   "cell_type": "markdown",
   "id": "df2415de",
   "metadata": {},
   "source": [
    "## Dimensionless particles"
   ]
  },
  {
   "cell_type": "markdown",
   "id": "a1af4fc4",
   "metadata": {},
   "source": [
    "[DimensionlessParticle]: https://docs.plasmapy.org/en/latest/api/plasmapy.particles.particle_class.DimensionlessParticle.html\n",
    "\n",
    "When we need a dimensionless representation of a particle, we can use the [DimensionlessParticle] class."
   ]
  },
  {
   "cell_type": "code",
   "execution_count": null,
   "id": "f57a0f64",
   "metadata": {},
   "outputs": [],
   "source": [
    "dimensionless_particle = DimensionlessParticle(mass=0.000545, charge=-1)"
   ]
  },
  {
   "cell_type": "markdown",
   "id": "cf598cb0",
   "metadata": {},
   "source": [
    "The properties of dimensionless particles may be accessed by its attributes."
   ]
  },
  {
   "cell_type": "code",
   "execution_count": null,
   "id": "7b0f9755",
   "metadata": {},
   "outputs": [],
   "source": [
    "dimensionless_particle.mass"
   ]
  },
  {
   "cell_type": "code",
   "execution_count": null,
   "id": "d4920b68",
   "metadata": {},
   "outputs": [],
   "source": [
    "dimensionless_particle.charge"
   ]
  },
  {
   "cell_type": "markdown",
   "id": "29e23e5f",
   "metadata": {},
   "source": [
    "Because a DimensionlessParticle does not uniquely describe a physical particle, it cannot be contained in a ParticleList.  "
   ]
  },
  {
   "cell_type": "markdown",
   "id": "efe199c8",
   "metadata": {},
   "source": [
    "## Nuclear reactions"
   ]
  },
  {
   "cell_type": "markdown",
   "id": "58fb006b",
   "metadata": {},
   "source": [
    "[plasmapy.particles]: https://docs.plasmapy.org/en/stable/particles/index.html\n",
    "[nuclear reaction]: https://chem.libretexts.org/Bookshelves/General_Chemistry/Book%3A_General_Chemistry%3A_Principles_Patterns_and_Applications_(Averill)/24%3A_Nuclear_Chemistry/24.03%3A_Nuclear_Reactions\n",
    "\n",
    "We can use [plasmapy.particles] to calculate the energy of a [nuclear reaction] using the `>` operator.  "
   ]
  },
  {
   "cell_type": "code",
   "execution_count": null,
   "id": "d8a9ab9e",
   "metadata": {},
   "outputs": [],
   "source": [
    "deuteron = Particle(\"D+\")\n",
    "triton = Particle(\"T+\")\n",
    "alpha = Particle(\"α\")\n",
    "neutron = Particle(\"n\")"
   ]
  },
  {
   "cell_type": "code",
   "execution_count": null,
   "id": "cb95c644",
   "metadata": {},
   "outputs": [],
   "source": [
    "energy = deuteron + triton > alpha + neutron"
   ]
  },
  {
   "cell_type": "code",
   "execution_count": null,
   "id": "e7a4c236",
   "metadata": {},
   "outputs": [],
   "source": [
    "energy.to(\"MeV\")"
   ]
  },
  {
   "cell_type": "markdown",
   "id": "8bf7e515",
   "metadata": {},
   "source": [
    "If the nuclear reaction is invalid, then an exception is raised that states the reason why."
   ]
  },
  {
   "cell_type": "code",
   "execution_count": null,
   "id": "efff1677",
   "metadata": {
    "nbsphinx": "hidden"
   },
   "outputs": [],
   "source": [
    "%xmode minimal"
   ]
  },
  {
   "cell_type": "code",
   "execution_count": null,
   "id": "67b32a3a",
   "metadata": {
    "tags": [
     "raises-exception"
    ]
   },
   "outputs": [],
   "source": [
    "deuteron + triton > alpha + 3 * neutron"
   ]
  },
  {
   "cell_type": "markdown",
   "id": "e7dcb9d8-4715-4ebd-bd18-eeee795c87ed",
   "metadata": {},
   "source": [
    "Find the energy of a common Alpha Decay reaction, Radium-226 decaying into Radon-222 and an alpha particle. First define particles for the radium and radon isotopes, then define the nuclear reaction equation. Finally, report your answer in MeV. Change the cell below from Markdown to Code and fill in the necessary gaps."
   ]
  },
  {
   "cell_type": "markdown",
   "id": "aad4fed1-6da6-4799-bb4d-549312099816",
   "metadata": {},
   "source": [
    "radium226 = \n",
    "\n",
    "radon222 =\n",
    "\n",
    "energy = ___ > ___ + ___\n",
    "\n",
    "energy.to()"
   ]
  },
  {
   "cell_type": "code",
   "execution_count": null,
   "id": "dbea997c-3e8d-4945-8e7d-a74bfabf152f",
   "metadata": {},
   "outputs": [],
   "source": []
  }
 ],
 "metadata": {
  "celltoolbar": "Tags",
  "kernelspec": {
   "display_name": "Python 3 (ipykernel)",
   "language": "python",
   "name": "python3"
  },
  "language_info": {
   "codemirror_mode": {
    "name": "ipython",
    "version": 3
   },
   "file_extension": ".py",
   "mimetype": "text/x-python",
   "name": "python",
   "nbconvert_exporter": "python",
   "pygments_lexer": "ipython3",
   "version": "3.12.4"
  }
 },
 "nbformat": 4,
 "nbformat_minor": 5
}
